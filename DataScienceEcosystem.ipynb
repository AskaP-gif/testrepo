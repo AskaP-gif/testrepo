{
 "cells": [
  {
   "cell_type": "markdown",
   "id": "fe4ff8c3-a70c-49cc-aef2-80f9f3a45b1e",
   "metadata": {},
   "source": [
    "# Data Science Tools and Ecosystem"
   ]
  },
  {
   "cell_type": "markdown",
   "id": "665a98d2-63a1-416c-9f09-a9e49b8113fc",
   "metadata": {},
   "source": [
    "In this notebook, Data Science Tools and Ecosystem are summarized."
   ]
  },
  {
   "cell_type": "markdown",
   "id": "921958c1-63db-446d-a5ba-febead37a812",
   "metadata": {},
   "source": [
    "***Objectives:***\n",
    "- Data Science task categories\n",
    "- Languages of Data Science\n",
    "- Libraries for Data Science\n",
    "- Introduction to Jupyter Notebook\n",
    "- Introduction to R and RStudio"
   ]
  },
  {
   "cell_type": "markdown",
   "id": "807ad11d-807f-48bd-b1a7-f5907d8552e3",
   "metadata": {},
   "source": [
    "Some of the popular languages that Data Scientists use are:"
   ]
  },
  {
   "cell_type": "markdown",
   "id": "d63f5bd3-1997-46d7-a541-dc694192e603",
   "metadata": {},
   "source": [
    "1. Python\n",
    "2. R\n",
    "3. SQL"
   ]
  },
  {
   "cell_type": "markdown",
   "id": "ba5277d7-942b-476d-b82f-98ff121f90cf",
   "metadata": {},
   "source": [
    "Some of the commonly used libraries used by Data Scientists include:"
   ]
  },
  {
   "cell_type": "markdown",
   "id": "7d391d56-9a23-4e9a-8594-fc3d4d466562",
   "metadata": {},
   "source": [
    "1. Pandas\n",
    "2. NumPy\n",
    "3. Matplotlib"
   ]
  },
  {
   "cell_type": "markdown",
   "id": "dbe9cda1-2568-458b-b252-68f46ecf39f2",
   "metadata": {},
   "source": [
    "|Data Science Tools|\n",
    "--------------------\n",
    "|Jupyter Notebook|\n",
    "|RStudio|\n",
    "|Apache Zeplin|"
   ]
  },
  {
   "cell_type": "markdown",
   "id": "4743e241-2975-4382-9659-d9fdd32afebf",
   "metadata": {},
   "source": [
    "###Below are a few examples of evaluating arithmetic expressions in Python"
   ]
  },
  {
   "cell_type": "code",
   "execution_count": 2,
   "id": "abadf159-faca-441d-9229-2409e4667353",
   "metadata": {
    "tags": []
   },
   "outputs": [
    {
     "data": {
      "text/plain": [
       "17"
      ]
     },
     "execution_count": 2,
     "metadata": {},
     "output_type": "execute_result"
    }
   ],
   "source": [
    "#This a simple arithmetic expression to mutiply then add integers\n",
    "(3*4)+5"
   ]
  },
  {
   "cell_type": "code",
   "execution_count": 3,
   "id": "8dd37cb7-949c-4cdd-b587-9136c3055fba",
   "metadata": {
    "tags": []
   },
   "outputs": [
    {
     "data": {
      "text/plain": [
       "3.3333333333333335"
      ]
     },
     "execution_count": 3,
     "metadata": {},
     "output_type": "execute_result"
    }
   ],
   "source": [
    "#This will convert 200 minutes to hours by diving by 60\n",
    "200/60"
   ]
  },
  {
   "cell_type": "markdown",
   "id": "5a296669-fb9d-49e6-84b7-15236709ed3e",
   "metadata": {},
   "source": [
    "## Author\n",
    "Joanna Bartkowska"
   ]
  },
  {
   "cell_type": "code",
   "execution_count": null,
   "id": "49399ef7-f540-47e3-b780-36fa24ef6485",
   "metadata": {},
   "outputs": [],
   "source": []
  }
 ],
 "metadata": {
  "kernelspec": {
   "display_name": "Python",
   "language": "python",
   "name": "conda-env-python-py"
  },
  "language_info": {
   "codemirror_mode": {
    "name": "ipython",
    "version": 3
   },
   "file_extension": ".py",
   "mimetype": "text/x-python",
   "name": "python",
   "nbconvert_exporter": "python",
   "pygments_lexer": "ipython3",
   "version": "3.7.12"
  }
 },
 "nbformat": 4,
 "nbformat_minor": 5
}
